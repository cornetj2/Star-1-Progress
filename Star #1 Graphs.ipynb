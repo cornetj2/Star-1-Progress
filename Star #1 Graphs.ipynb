{
 "cells": [
  {
   "cell_type": "code",
   "execution_count": 4,
   "metadata": {
    "collapsed": true
   },
   "outputs": [],
   "source": [
    "%matplotlib inline\n",
    "import numpy as np\n",
    "import matplotlib\n",
    "import matplotlib.pyplot as plt"
   ]
  },
  {
   "cell_type": "markdown",
   "metadata": {},
   "source": [
    "The following variables are defined:\n",
    "Flare start time, flare stop time, flare energy, the absolute value of the flare energies (still have to sort negative flares out, should be ignored in final product), logarithm of energy, number of data points (reflects time length of sampled data), number of flares, time between data point (between each kepler reading), total time, and possibly rate. Note, Totaldays is key here. Must be in denominator. Need reverse cumulative sum as function of energy."
   ]
  },
  {
   "cell_type": "code",
   "execution_count": 5,
   "metadata": {
    "collapsed": true
   },
   "outputs": [],
   "source": [
    "# Here i'm making the function for my plot and all files.\n",
    "\n",
    "def JonFunc(x,y,doplot=False,xlimit=(2,10),figname='Myfigure.png'):\n",
    "    print(x)\n",
    "    ynew=y*2\n",
    "    if doplot is True:\n",
    "        plt.plot(x,ynew)\n",
    "        plt.title('Myplot')\n",
    "        plt.xlim(xlimit)\n",
    "        plt.savefig(figname,dpi=300)\n",
    "    return ynew"
   ]
  },
  {
   "cell_type": "code",
   "execution_count": 6,
   "metadata": {
    "collapsed": false
   },
   "outputs": [
    {
     "name": "stdout",
     "output_type": "stream",
     "text": [
      "0.858736190522\n"
     ]
    }
   ],
   "source": [
    "time, flux =np.loadtxt('6224062.dat',usecols=(0,1),unpack=True)\n",
    "\n",
    "t_start, t_stop, energy =np.loadtxt('6224062.txt',usecols=(4,5,9),unpack=True)\n",
    "#for line in t_start:\n",
    "#    print(line)\n",
    "\n",
    "absE=abs(energy)\n",
    "\n",
    "logE=np.log10(absE)\n",
    "\n",
    "Numbdata=len(time)\n",
    "\n",
    "Numbflares=len(energy)\n",
    "\n",
    "dt=time[1:]-time[:-1]\n",
    "expt=np.median(dt)\n",
    "\n",
    "Totaldays=Numbdata*expt\n",
    "\n",
    "Rate=Numbflares/Totaldays\n",
    "\n",
    "print(Rate)\n"
   ]
  },
  {
   "cell_type": "markdown",
   "metadata": {},
   "source": [
    "Transfered data from IDL to Python to refer to sample flare data."
   ]
  },
  {
   "cell_type": "code",
   "execution_count": 7,
   "metadata": {
    "collapsed": false
   },
   "outputs": [
    {
     "data": {
      "text/plain": [
       "(240, 245)"
      ]
     },
     "execution_count": 7,
     "metadata": {},
     "output_type": "execute_result"
    },
    {
     "data": {
      "image/png": "[encoded data removed]",
      "text/plain": [
       "<matplotlib.figure.Figure at 0x6a79550>"
      ]
     },
     "metadata": {},
     "output_type": "display_data"
    }
   ],
   "source": [
    "plt.plot(time, flux)\n",
    "plt.xlim([240,245])"
   ]
  },
  {
   "cell_type": "markdown",
   "metadata": {},
   "source": [
    "Attempted at plotting logarithm of energy, hoping to get the graph intended for final product (Something is not good here)."
   ]
  },
  {
   "cell_type": "code",
   "execution_count": 8,
   "metadata": {
    "collapsed": false
   },
   "outputs": [],
   "source": [
    "samplex=([0,1136])\n",
    "x=np.array(samplex)\n",
    "y=np.array(logE)\n",
    "#plt.plot(x,y)"
   ]
  },
  {
   "cell_type": "markdown",
   "metadata": {},
   "source": [
    "Two different Histograms of data, difference is bin numbers (Not sure prefered amount)."
   ]
  },
  {
   "cell_type": "code",
   "execution_count": 9,
   "metadata": {
    "collapsed": false
   },
   "outputs": [
    {
     "data": {
      "text/plain": [
       "(0, 500)"
      ]
     },
     "execution_count": 9,
     "metadata": {},
     "output_type": "execute_result"
    },
    {
     "data": {
      "image/png": "[encoded data removed]",
      "text/plain": [
       "<matplotlib.figure.Figure at 0x70fe5d0>"
      ]
     },
     "metadata": {},
     "output_type": "display_data"
    }
   ],
   "source": [
    "plt.hist(logE,facecolor='green',histtype='stepfilled')\n",
    "plt.title(\"Histogram of Log(energy)\")\n",
    "plt.xlabel(\"Log(energy)\")\n",
    "plt.ylabel(\"Number of Flares\")\n",
    "plt.ylim([0,500])"
   ]
  },
  {
   "cell_type": "code",
   "execution_count": 10,
   "metadata": {
    "collapsed": false
   },
   "outputs": [
    {
     "data": {
      "image/png": "[encoded data removed]",
      "text/plain": [
       "<matplotlib.figure.Figure at 0x6cb8db0>"
      ]
     },
     "metadata": {},
     "output_type": "display_data"
    }
   ],
   "source": [
    "plt.hist(energy,50,facecolor='green',histtype='stepfilled')\n",
    "plt.title(\"Histogram of Energy\")\n",
    "plt.xlabel(\"Energy\")\n",
    "plt.ylabel(\"Number of Flares\")\n",
    "#plt.ylim([0,120])\n",
    "plt.yscale('log')\n",
    "plt.xscale('log')"
   ]
  },
  {
   "cell_type": "markdown",
   "metadata": {},
   "source": [
    "Very rough attempts at incorperating rate, final graph is very much forced into looking like final producted desired."
   ]
  },
  {
   "cell_type": "code",
   "execution_count": 11,
   "metadata": {
    "collapsed": false
   },
   "outputs": [],
   "source": [
    "#plt.hist(logE,Rate,facecolor='green')\n",
    "#plt.title(\"Histogram of Log(energy) VS. Rate\")\n",
    "#plt.xlabel(\"Log(energy)\")\n",
    "#plt.ylabel(\"Rate of Flares (Number per Day)\")"
   ]
  },
  {
   "cell_type": "code",
   "execution_count": 12,
   "metadata": {
    "collapsed": false
   },
   "outputs": [
    {
     "name": "stdout",
     "output_type": "stream",
     "text": [
      "6 8 26 23 117 957\n"
     ]
    },
    {
     "data": {
      "text/plain": [
       "<matplotlib.text.Text at 0x6d39e70>"
      ]
     },
     "execution_count": 12,
     "metadata": {},
     "output_type": "execute_result"
    },
    {
     "data": {
      "image/png": "[encoded data removed]",
      "text/plain": [
       "<matplotlib.figure.Figure at 0x6a793d0>"
      ]
     },
     "metadata": {},
     "output_type": "display_data"
    }
   ],
   "source": [
    "#hi = 0\n",
    "#for i in range(len(logE)):\n",
    "#    for j in range(i+1, len(logE)):\n",
    "#        if (j) > 0:\n",
    "#            hi = max(hi, j)\n",
    "#            l=[]\n",
    "#            l.extend(range(len(logE)))\n",
    "#print(l)\n",
    "#plt.plot(l)\n",
    "a=0\n",
    "b=0\n",
    "c=0\n",
    "d=0\n",
    "e=0\n",
    "f=0\n",
    "for i in energy:\n",
    "    if (i) > 100:\n",
    "        a=a+1\n",
    "    elif (i) > 60:\n",
    "        b=b+1\n",
    "    elif (i) > 30:\n",
    "        c=c+1\n",
    "    elif (i) > 20:\n",
    "        d=d+1\n",
    "    elif (i) > 10:\n",
    "        e=e+1\n",
    "    elif (i) > -20:\n",
    "        f=f+1\n",
    "    \n",
    "    \n",
    "print(a,b,c,d,e,f)\n",
    "\n",
    "#ls=[1/a,1/b,1/c,1/d,1/e,1/f]\n",
    "\n",
    "#plt.plot(ls)\n",
    "\n",
    "binE=np.array([100,60,30,20,10,-20])\n",
    "binR=np.array([a,b,c,d,e,f])/Totaldays\n",
    "plt.plot(binE,binR)\n",
    "plt.yscale('log')\n",
    "plt.xlabel('Minimum Bin Energy')\n",
    "plt.ylabel('Rate (number of flares per day)')\n"
   ]
  },
  {
   "cell_type": "markdown",
   "metadata": {},
   "source": [
    "A first draft (non-continuous) of FFD (Flare Frequency Distribution) (y axis is cumulative flares per day)"
   ]
  },
  {
   "cell_type": "markdown",
   "metadata": {},
   "source": [
    "Cumulative Distribution is below."
   ]
  },
  {
   "cell_type": "code",
   "execution_count": 13,
   "metadata": {
    "collapsed": false
   },
   "outputs": [
    {
     "data": {
      "text/plain": [
       "<matplotlib.text.Text at 0x70c47f0>"
      ]
     },
     "execution_count": 13,
     "metadata": {},
     "output_type": "execute_result"
    },
    {
     "data": {
      "image/png": "[encoded data removed]",
      "text/plain": [
       "<matplotlib.figure.Figure at 0x70d8730>"
      ]
     },
     "metadata": {},
     "output_type": "display_data"
    }
   ],
   "source": [
    "SS=np.argsort(energy)\n",
    "energy[SS]\n",
    "#plt.plot(energy)\n",
    "plt.plot(energy[SS],np.arange(0,len(energy))/len(energy))\n",
    "plt.xscale('log')\n",
    "plt.xlabel('Flare Energy')\n",
    "plt.ylabel('Fraction')"
   ]
  },
  {
   "cell_type": "code",
   "execution_count": 14,
   "metadata": {
    "collapsed": false
   },
   "outputs": [
    {
     "data": {
      "text/plain": [
       "(0.0001, 1)"
      ]
     },
     "execution_count": 14,
     "metadata": {},
     "output_type": "execute_result"
    },
    {
     "data": {
      "image/png": "[encoded data removed]",
      "text/plain": [
       "<matplotlib.figure.Figure at 0x70d8430>"
      ]
     },
     "metadata": {},
     "output_type": "display_data"
    }
   ],
   "source": [
    "plt.scatter(energy[SS][::-1],\n",
    "         np.cumsum(np.arange(0,len(energy))[::-1]/len(energy))/Totaldays)\n",
    "plt.xscale('log')\n",
    "plt.yscale('log')\n",
    "plt.xlabel('Flare Energy')\n",
    "plt.ylabel('Cumulative number of flares per day')\n",
    "plt.xlim(1,200)\n",
    "plt.ylim(1e-4,1)"
   ]
  },
  {
   "cell_type": "markdown",
   "metadata": {},
   "source": [
    "https://github.com/jradavenport/jradavenport_idl/blob/master/perror.pro\n",
    "\n",
    "Note to self, error replication can be found here under perror, in IDL. Need asymmetric for Python."
   ]
  },
  {
   "cell_type": "code",
   "execution_count": 15,
   "metadata": {
    "collapsed": false
   },
   "outputs": [
    {
     "ename": "IndentationError",
     "evalue": "unexpected indent (<ipython-input-15-71f2094b1606>, line 2)",
     "output_type": "error",
     "traceback": [
      "\u001b[1;36m  File \u001b[1;32m\"<ipython-input-15-71f2094b1606>\"\u001b[1;36m, line \u001b[1;32m2\u001b[0m\n\u001b[1;33m    err_up = n+np.sqrt(n+0.75)+1.0-n\u001b[0m\n\u001b[1;37m    ^\u001b[0m\n\u001b[1;31mIndentationError\u001b[0m\u001b[1;31m:\u001b[0m unexpected indent\n"
     ]
    }
   ],
   "source": [
    "err_dn = np.abs(n*(1.-1./(9.*n)-1./(3.*np.sqrt(n)))**3.-n)\n",
    "    err_up = n+np.sqrt(n+0.75)+1.0-n"
   ]
  },
  {
   "cell_type": "markdown",
   "metadata": {},
   "source": [
    "Current goal: remake this plot with asymmetric error bares, up and down. If possible, fit a line. Ideally, generalize for all forms of data, including multiple files."
   ]
  },
  {
   "cell_type": "code",
   "execution_count": 18,
   "metadata": {
    "collapsed": false
   },
   "outputs": [
    {
     "name": "stdout",
     "output_type": "stream",
     "text": [
      "[0 1 2 3 4 5 6 7 8 9]\n"
     ]
    },
    {
     "data": {
      "image/png": "[encoded data removed]",
      "text/plain": [
       "<matplotlib.figure.Figure at 0xa7bb370>"
      ]
     },
     "metadata": {},
     "output_type": "display_data"
    }
   ],
   "source": [
    "a = JonFunc(np.arange(10), np.arange(10), doplot=True)"
   ]
  },
  {
   "cell_type": "code",
   "execution_count": null,
   "metadata": {
    "collapsed": true
   },
   "outputs": [],
   "source": [
    "# Start the TRUE JonFunc here:"
   ]
  },
  {
   "cell_type": "code",
   "execution_count": null,
   "metadata": {
    "collapsed": true
   },
   "outputs": [],
   "source": []
  }
 ],
 "metadata": {
  "kernelspec": {
   "display_name": "Python 3",
   "language": "python",
   "name": "python3"
  },
  "language_info": {
   "codemirror_mode": {
    "name": "ipython",
    "version": 3
   },
   "file_extension": ".py",
   "mimetype": "text/x-python",
   "name": "python",
   "nbconvert_exporter": "python",
   "pygments_lexer": "ipython3",
   "version": "3.5.1"
  }
 },
 "nbformat": 4,
 "nbformat_minor": 0
}
